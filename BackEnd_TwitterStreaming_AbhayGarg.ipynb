{
 "cells": [
  {
   "cell_type": "code",
   "execution_count": 1,
   "metadata": {},
   "outputs": [],
   "source": [
    "from tweepy import Stream\n",
    "from tweepy import OAuthHandler\n",
    "from tweepy.streaming import StreamListener\n",
    "import tweepy\n",
    "import pandas as pd\n",
    "import matplotlib.pyplot as plt\n",
    "import numpy as np\n",
    "import pymysql\n",
    "pd.options.display.max_columns = 50\n",
    "pd.options.display.max_rows= 50\n",
    "pd.options.display.width= 120"
   ]
  },
  {
   "cell_type": "code",
   "execution_count": null,
   "metadata": {
    "collapsed": true
   },
   "outputs": [],
   "source": [
    "consumer_key = \"eKzcY1aUYnT5ra8Gu5g1vgH2X\"\n",
    "consumer_secret = \"1slRr0TT7zwynm9K5V8NNBwQ6luCCa88OacSO9hTjRHu4aQ2lo\"\n",
    "api_key = \"eKzcY1aUYnT5ra8Gu5g1vgH2X\"\n",
    "api_secret = \"1slRr0TT7zwynm9K5V8NNBwQ6luCCa88OacSO9hTjRHu4aQ2lo\"\n",
    "access_token = \"3165627764-b2PWTRlZ4HzqVvROoNYSdeZcN6bhiTfKeJsHBpo\"\n",
    "access_token_secret = \"igsoovvvxde1jMsBeqNhdAugYzkG9ZkKy4dlwEpAUAZ6O\"\n",
    "auth = tweepy.OAuthHandler(api_key, api_secret)\n",
    "auth.set_access_token(access_token, access_token_secret)\n",
    "\n",
    "api = tweepy.API(auth)"
   ]
  },
  {
   "cell_type": "code",
   "execution_count": null,
   "metadata": {},
   "outputs": [
    {
     "name": "stdout",
     "output_type": "stream",
     "text": [
      "Enter the keyword for streaming ...for example- 'Sundar Pichai' \n"
     ]
    }
   ],
   "source": [
    "#streaming tweets for a keyword\n",
    "print(\"Enter the keyword for streaming ...for example- 'Sundar Pichai' \")\n",
    "Q = input()\n",
    "results = api.search(q=Q)"
   ]
  },
  {
   "cell_type": "code",
   "execution_count": null,
   "metadata": {
    "collapsed": true
   },
   "outputs": [],
   "source": [
    "tweet=results[0]\n",
    "\n",
    "for param in dir(tweet):\n",
    "    if not param.startswith(\"_\"):\n",
    "        print (\"%s : %s\" % (param, eval(\"tweet.\" + param)) )"
   ]
  },
  {
   "cell_type": "code",
   "execution_count": null,
   "metadata": {
    "collapsed": true
   },
   "outputs": [],
   "source": [
    "user=tweet.author\n",
    "\n",
    "for param in dir(user):\n",
    "    if not param.startswith(\"_\"):\n",
    "        print (\"%s : %s\" % (param, eval(\"user.\" + param)))"
   ]
  },
  {
   "cell_type": "code",
   "execution_count": null,
   "metadata": {},
   "outputs": [],
   "source": [
    "results = []\n",
    "for tweet in tweepy.Cursor(api.search, q=Q).items(500):\n",
    "    results.append(tweet)"
   ]
  },
  {
   "cell_type": "code",
   "execution_count": null,
   "metadata": {},
   "outputs": [],
   "source": [
    "def process_results(results):\n",
    "    id_list = [tweet.text for tweet in results]\n",
    "    data_set = pd.DataFrame(id_list, columns=[\"id\"])\n",
    "\n",
    "    # Processing Tweet Data\n",
    "\n",
    "    data_set[\"text\"] = [tweet.text for tweet in results]\n",
    "    data_set[\"created_at\"] = [tweet.created_at for tweet in results]\n",
    "    data_set[\"retweet_count\"] = [tweet.retweet_count for tweet in results]\n",
    "    data_set[\"favorite_count\"] = [tweet.favorite_count for tweet in results]\n",
    "    data_set[\"source\"] = [tweet.source for tweet in results]\n",
    "    data_set[\"lang\"] = [tweet.lang for tweet in results]\n",
    "\n",
    "    # Processing User Data\n",
    "    data_set[\"user_id\"] = [tweet.author.id for tweet in results]\n",
    "    data_set[\"user_screen_name\"] = [tweet.author.screen_name for tweet in results]\n",
    "    data_set[\"user_name\"] = [tweet.author.name for tweet in results]\n",
    "    #data_set[\"user_created_at\"] = [tweet.author.created_at for tweet in results]\n",
    "    #data_set[\"user_description\"] = [tweet.author.description for tweet in results]\n",
    "    data_set[\"user_followers_count\"] = [tweet.author.followers_count for tweet in results]\n",
    "    data_set[\"user_friends_count\"] = [tweet.author.friends_count for tweet in results]\n",
    "    data_set[\"user_location\"] = [tweet.author.location for tweet in results]\n",
    "\n",
    "    return data_set\n",
    "data_set = process_results(results)\n",
    "#set(data_set[\"lang\"])"
   ]
  },
  {
   "cell_type": "code",
   "execution_count": null,
   "metadata": {},
   "outputs": [],
   "source": [
    "data_set.to_csv('main_output.csv')\n",
    "data_set.head()"
   ]
  },
  {
   "cell_type": "code",
   "execution_count": null,
   "metadata": {},
   "outputs": [],
   "source": [
    "sources = data_set[\"source\"].value_counts()[:5][::-1]\n",
    "\n",
    "plt.barh(range(len(sources)), sources.values)\n",
    "plt.yticks(np.arange(len(sources)) + 0.4, sources.index)\n",
    "plt.show()"
   ]
  },
  {
   "cell_type": "code",
   "execution_count": null,
   "metadata": {},
   "outputs": [],
   "source": [
    "#applying filters\n",
    "print(\"Enter user name ELSE leave it blank ----- for example- 'Tech4SDGs' \")\n",
    "u_name = input()\n",
    "print('\\n')\n",
    "\n",
    "print(\"Enter user screen name ELSE leave it blank ----- for example- 'Tech4SDGs' \")\n",
    "u_screen_name = input()\n",
    "print('\\n')\n",
    "\n",
    "print(\"Enter Retweet Count (Greater or Equal to) ELSE leave it blank ----- for example- 5 \")\n",
    "rt_count = input()\n",
    "if(rt_count==''):\n",
    "    rt_count=0\n",
    "print('\\n')\n",
    "\n",
    "print(\"Enter Favourite Count (Greater or Equal to) ELSE leave it blank ----- for example- 5 \")\n",
    "fav_count = input()\n",
    "if(fav_count==''):\n",
    "    fav_count=0\n",
    "print('\\n')\n",
    "\n",
    "print(\"Enter Language ELSE leave it blank ----- for example- en for english, hi for hindi \")\n",
    "language = input()\n",
    "print('\\n')\n",
    "\n",
    "print(\"Enter User Location ELSE leave it blank ----- for example- 'India' \")\n",
    "u_location = input()\n",
    "print('\\n')\n",
    "\n",
    "\n",
    "#u_name = \"\"                    #Enter user_name (optional) e.g. u_name = \"Tech4SDGs\"\n",
    "#u_screen_name = \"\"             #enter user_screen_name (optional) e.g. u_screen_name = \"Tech4SDGs\"\n",
    "#rt_count = 0                   #enter retweet count\n",
    "#fav_count = 0                  #enter favourite count\n",
    "#language = \"\"                  #enter language e.g. language = \"en\"\n",
    "#u_location = \"\"                #enter user's location e.g. u_location = \"Global\"\n",
    "df = data_set\n",
    "if u_name!='':\n",
    "    df = df.loc[(data_set.user_name==u_name)]\n",
    "if u_screen_name!='':\n",
    "    df = df.loc[(data_set.user_screen_name==u_screen_name)]\n",
    "df = df.loc[(data_set.retweet_count>=int(rt_count)) & (data_set.favorite_count>=int(fav_count))]\n",
    "if u_location!='':\n",
    "    df = df.loc[(data_set.user_location==u_location)]\n",
    "if language!='':\n",
    "    df = df.loc[(data_set.lang==language)]\n",
    "df"
   ]
  },
  {
   "cell_type": "code",
   "execution_count": null,
   "metadata": {},
   "outputs": [],
   "source": [
    "print(\"Enter the csv filename in which you want to export the filtered data ....for example: outputFile\")\n",
    "filename = input()\n",
    "if(filename==''):\n",
    "    filename='output.csv'\n",
    "if((filename.split('.')[-1]) == 'csv'):\n",
    "    filename = filename\n",
    "else:\n",
    "    filename = filename+'.csv'\n",
    "df.to_csv(filename)"
   ]
  },
  {
   "cell_type": "code",
   "execution_count": null,
   "metadata": {},
   "outputs": [],
   "source": [
    "sources = df[\"source\"].value_counts()[:5][::-1]\n",
    "\n",
    "plt.barh(range(len(sources)), sources.values)\n",
    "plt.yticks(np.arange(len(sources)) + 0.4, sources.index)\n",
    "plt.show()"
   ]
  }
 ],
 "metadata": {
  "kernelspec": {
   "display_name": "Python 3",
   "language": "python",
   "name": "python3"
  },
  "language_info": {
   "codemirror_mode": {
    "name": "ipython",
    "version": 3
   },
   "file_extension": ".py",
   "mimetype": "text/x-python",
   "name": "python",
   "nbconvert_exporter": "python",
   "pygments_lexer": "ipython3",
   "version": "3.6.1"
  }
 },
 "nbformat": 4,
 "nbformat_minor": 2
}
